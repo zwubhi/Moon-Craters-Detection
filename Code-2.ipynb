{
 "cells": [
  {
   "cell_type": "code",
   "execution_count": 2,
   "metadata": {},
   "outputs": [],
   "source": [
    "import cv2\n",
    "import numpy as np\n",
    "image = cv2.imread('Exp.no.60.jpg', flags=cv2.IMREAD_COLOR)\n",
    "noiseless_image = cv2.fastNlMeansDenoisingColored(image,None,20,20,7,21)\n",
    "kernel = np.array([[0, -1, 0],\n",
    "                   [-1, 5,-1],\n",
    "                   [0, -1, 0]])\n",
    "image_sharp = cv2.filter2D(src=image, ddepth=-1, kernel=kernel)\n",
    "# cv2.imshow('AV CV- Winter Wonder Sharpened', image_sharp)\n",
    "cv2.imwrite(\"sharp1.png\", image_sharp)\n",
    "cv2.waitKey()\n",
    "cv2.destroyAllWindows()"
   ]
  },
  {
   "cell_type": "code",
   "execution_count": null,
   "metadata": {},
   "outputs": [],
   "source": []
  }
 ],
 "metadata": {
  "kernelspec": {
   "display_name": "Python 3.7.9 64-bit (microsoft store)",
   "language": "python",
   "name": "python3"
  },
  "language_info": {
   "codemirror_mode": {
    "name": "ipython",
    "version": 3
   },
   "file_extension": ".py",
   "mimetype": "text/x-python",
   "name": "python",
   "nbconvert_exporter": "python",
   "pygments_lexer": "ipython3",
   "version": "3.7.9"
  },
  "orig_nbformat": 4,
  "vscode": {
   "interpreter": {
    "hash": "cc6f9e1430278e320ea57d49812cf96979ed8c68f5b4574d02b2abd64a0a8249"
   }
  }
 },
 "nbformat": 4,
 "nbformat_minor": 2
}
